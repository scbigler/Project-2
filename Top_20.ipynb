{
 "cells": [
  {
   "cell_type": "code",
   "execution_count": 1,
   "metadata": {},
   "outputs": [],
   "source": [
    "from bs4 import BeautifulSoup\n",
    "import requests"
   ]
  },
  {
   "cell_type": "code",
   "execution_count": 2,
   "metadata": {},
   "outputs": [],
   "source": [
    "url = 'https://www.fiercepharma.com/special-report/top-20-pharma-companies-by-2020-revenue'"
   ]
  },
  {
   "cell_type": "code",
   "execution_count": null,
   "metadata": {},
   "outputs": [],
   "source": []
  },
  {
   "cell_type": "code",
   "execution_count": 3,
   "metadata": {},
   "outputs": [],
   "source": [
    "response = requests.get(url)"
   ]
  },
  {
   "cell_type": "code",
   "execution_count": 4,
   "metadata": {},
   "outputs": [],
   "source": [
    "Top20=BeautifulSoup(response.text, 'html.parser')"
   ]
  },
  {
   "cell_type": "code",
   "execution_count": 5,
   "metadata": {},
   "outputs": [
    {
     "name": "stdout",
     "output_type": "stream",
     "text": [
      "<!DOCTYPE html>\n",
      "<html lang=\"en-US\">\n",
      " <head>\n",
      "  <title>\n",
      "   Access denied\n",
      "  </title>\n",
      "  <meta content=\"IE=Edge\" http-equiv=\"X-UA-Compatible\"/>\n",
      "  <meta content=\"noindex, nofollow\" name=\"robots\"/>\n",
      "  <meta content=\"width=device-width,initial-scale=1\" name=\"viewport\"/>\n",
      "  <link href=\"/cdn-cgi/styles/errors.css\" media=\"screen\" rel=\"stylesheet\"/>\n",
      "  <script>\n",
      "   (function(){if(document.addEventListener&&window.XMLHttpRequest&&JSON&&JSON.stringify){var e=function(a){var c=document.getElementById(\"error-feedback-survey\"),d=document.getElementById(\"error-feedback-success\"),b=new XMLHttpRequest;a={event:\"feedback clicked\",properties:{errorCode:1020,helpful:a,version:4}};b.open(\"POST\",\"https://sparrow.cloudflare.com/api/v1/event\");b.setRequestHeader(\"Content-Type\",\"application/json\");b.setRequestHeader(\"Sparrow-Source-Key\",\"c771f0e4b54944bebf4261d44bd79a1e\");\n",
      "b.send(JSON.stringify(a));c.classList.add(\"feedback-hidden\");d.classList.remove(\"feedback-hidden\")};document.addEventListener(\"DOMContentLoaded\",function(){var a=document.getElementById(\"error-feedback\"),c=document.getElementById(\"feedback-button-yes\"),d=document.getElementById(\"feedback-button-no\");\"classList\"in a&&(a.classList.remove(\"feedback-hidden\"),c.addEventListener(\"click\",function(){e(!0)}),d.addEventListener(\"click\",function(){e(!1)}))})}})();\n",
      "  </script>\n",
      "  <script>\n",
      "   (function(){if(document.addEventListener){var c=function(){var b=document.getElementById(\"copy-label\");document.getElementById(\"plain-ray-id\");if(navigator.clipboard)navigator.clipboard.writeText(\"75637c1568417c56\");else{var a=document.createElement(\"textarea\");a.value=\"75637c1568417c56\";a.style.top=\"0\";a.style.left=\"0\";a.style.position=\"fixed\";document.body.appendChild(a);a.focus();a.select();document.execCommand(\"copy\");document.body.removeChild(a)}b.innerText=\"Copied\"};document.addEventListener(\"DOMContentLoaded\",\n",
      "function(){var b=document.getElementById(\"plain-ray-id\"),a=document.getElementById(\"click-to-copy-btn\");\"classList\"in b&&(b.classList.add(\"hidden\"),a.classList.remove(\"hidden\"),a.addEventListener(\"click\",c))})}})();\n",
      "  </script>\n",
      "  <script defer=\"\" src=\"https://performance.radar.cloudflare.com/beacon.js\">\n",
      "  </script>\n",
      " </head>\n",
      " <body>\n",
      "  <div class=\"main-wrapper\" role=\"main\">\n",
      "   <div class=\"header section\">\n",
      "    <h1>\n",
      "     <span class=\"error-description\">\n",
      "      Access denied\n",
      "     </span>\n",
      "     <span class=\"code-label\">\n",
      "      Error code\n",
      "      <span>\n",
      "       1020\n",
      "      </span>\n",
      "     </span>\n",
      "    </h1>\n",
      "    <div class=\"large-font\">\n",
      "     <p>\n",
      "      You cannot access www.fiercepharma.com. Refresh the page or contact the site owner to request access.\n",
      "     </p>\n",
      "    </div>\n",
      "   </div>\n",
      "  </div>\n",
      "  <div>\n",
      "   <div class=\"section know-more\">\n",
      "    <h2 class=\"large-font\">\n",
      "     Troubleshooting information\n",
      "    </h2>\n",
      "    <p>\n",
      "     Copy and paste the Ray ID when you contact the site owner.\n",
      "    </p>\n",
      "    <p class=\"ray-id-wrapper\">\n",
      "     Ray ID:\n",
      "     <span class=\"plain-ray-id\" id=\"plain-ray-id\">\n",
      "      75637c1568417c56\n",
      "     </span>\n",
      "     <button class=\"click-to-copy-btn hidden\" id=\"click-to-copy-btn\" title=\"Click to copy Ray ID\" type=\"button\">\n",
      "      <span class=\"ray-id\">\n",
      "       75637c1568417c56\n",
      "      </span>\n",
      "      <span class=\"copy-label\" id=\"copy-label\">\n",
      "       Copy\n",
      "      </span>\n",
      "     </button>\n",
      "    </p>\n",
      "    <p>\n",
      "     For help visit\n",
      "     <a href=\"https://support.cloudflare.com/hc/articles/360029779472-Troubleshooting-Cloudflare-1XXX-errors?utm_source=1020_error#error1020\" rel=\"noopener noreferrer\" target=\"_blank\">\n",
      "      Troubleshooting guide\n",
      "     </a>\n",
      "     <img alt=\"External link\" class=\"external-link\" src=\"/cdn-cgi/images/external.png\" title=\"Opens in new tab\"/>\n",
      "    </p>\n",
      "   </div>\n",
      "   <div class=\"clearfix footer section\" role=\"contentinfo\">\n",
      "    <div class=\"column\">\n",
      "     <div class=\"feedback-hidden py-8 text-center\" id=\"error-feedback\">\n",
      "      <div class=\"footer-line-wrapper\" id=\"error-feedback-survey\">\n",
      "       Was this page helpful?\n",
      "       <button class=\"border border-solid bg-white cf-button cursor-pointer ml-4 px-4 py-2 rounded\" id=\"feedback-button-yes\" type=\"button\">\n",
      "        Yes\n",
      "       </button>\n",
      "       <button class=\"border border-solid bg-white cf-button cursor-pointer ml-4 px-4 py-2 rounded\" id=\"feedback-button-no\" type=\"button\">\n",
      "        No\n",
      "       </button>\n",
      "      </div>\n",
      "      <div class=\"feedback-success feedback-hidden\" id=\"error-feedback-success\">\n",
      "       Thank you for your feedback!\n",
      "      </div>\n",
      "     </div>\n",
      "    </div>\n",
      "    <div class=\"column footer-line-wrapper text-center\">\n",
      "     Performance &amp; security by\n",
      "     <a href=\"https://www.cloudflare.com?utm_source=1020_error\" rel=\"noopener noreferrer\" target=\"_blank\">\n",
      "      Cloudflare\n",
      "     </a>\n",
      "     <img alt=\"External link\" class=\"external-link\" src=\"/cdn-cgi/images/external.png\" title=\"Opens in new tab\"/>\n",
      "    </div>\n",
      "   </div>\n",
      "  </div>\n",
      "  <script>\n",
      "   (function(){var js = \"window['__CF$cv$params']={r:'75637c1568417c56',m:'r3MWbLdPafcQjkk03x4NQbU_VfeBR9Hb_UM5zen79uA-1665112656-0-AetR6zia9uEr+7+7NuIBjA0e7dtVcYs4xG/4N/R/DIy56/JNqzUSflDL3jRoVE7cKe2145nrO29UV+e+PHL177AMKYpu4f05BIUubwUfAxRjmFDlwAejNwg3AGvXIkO8IgcwAoFPRMGzn2H1N8B5VbO+6BHXvIw1pPiW9KhakXqkZR9uD+SNWtEzomBlgiHGLg==',s:[0x5598f70ff2,0xe36e4e8a21],u:'/cdn-cgi/challenge-platform/h/b'};var _cpo=document.createElement('script');_cpo.nonce='',_cpo.src='/cdn-cgi/challenge-platform/h/b/scripts/cb/invisible.js?cb=75637c1568417c56',document.getElementsByTagName('head')[0].appendChild(_cpo);\";var _0xh = document.createElement('iframe');_0xh.height = 1;_0xh.width = 1;_0xh.style.position = 'absolute';_0xh.style.top = 0;_0xh.style.left = 0;_0xh.style.border = 'none';_0xh.style.visibility = 'hidden';document.body.appendChild(_0xh);function handler() {var _0xi = _0xh.contentDocument || _0xh.contentWindow.document;if (_0xi) {var _0xj = _0xi.createElement('script');_0xj.nonce = '';_0xj.innerHTML = js;_0xi.getElementsByTagName('head')[0].appendChild(_0xj);}}if (document.readyState !== 'loading') {handler();} else if (window.addEventListener) {document.addEventListener('DOMContentLoaded', handler);} else {var prev = document.onreadystatechange || function () {};document.onreadystatechange = function (e) {prev(e);if (document.readyState !== 'loading') {document.onreadystatechange = prev;handler();}};}})();\n",
      "  </script>\n",
      " </body>\n",
      "</html>\n",
      "\n"
     ]
    }
   ],
   "source": [
    "print(Top20.prettify())"
   ]
  },
  {
   "cell_type": "code",
   "execution_count": 7,
   "metadata": {},
   "outputs": [
    {
     "name": "stdout",
     "output_type": "stream",
     "text": [
      "[]\n"
     ]
    }
   ],
   "source": [
    "results = Top20.body.find_all('span', class_='toc-item')\n"
   ]
  },
  {
   "cell_type": "code",
   "execution_count": 8,
   "metadata": {},
   "outputs": [],
   "source": [
    "for result in results:\n",
    "    try:\n",
    "        Manufacturer=results.find('span', class_='toc-item').text\n",
    "        # Revenue=results.find('strong').text\n",
    "\n",
    "        if (Manufacturer):\n",
    "            print('-------------')\n",
    "            print(Manufacturer)\n",
    "            # print(Revenue)\n",
    "    except AttributeError as e:\n",
    "        print(e)"
   ]
  }
 ],
 "metadata": {
  "kernelspec": {
   "display_name": "Python 3.9.12 ('base')",
   "language": "python",
   "name": "python3"
  },
  "language_info": {
   "codemirror_mode": {
    "name": "ipython",
    "version": 3
   },
   "file_extension": ".py",
   "mimetype": "text/x-python",
   "name": "python",
   "nbconvert_exporter": "python",
   "pygments_lexer": "ipython3",
   "version": "3.9.12"
  },
  "orig_nbformat": 4,
  "vscode": {
   "interpreter": {
    "hash": "836d2a737f345f770091c2a0c0b83549937904d5f6f9008ba9ac2389b7758057"
   }
  }
 },
 "nbformat": 4,
 "nbformat_minor": 2
}
